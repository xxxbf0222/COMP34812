{
 "cells": [
  {
   "cell_type": "code",
   "execution_count": 1,
   "metadata": {
    "vscode": {
     "languageId": "plaintext"
    }
   },
   "outputs": [],
   "source": [
    "import torch\n",
    "from Solution1.data.ClaimEvidenceDataset import ClaimEvidenceLstmDataset\n",
    "from eval import model_predict, predict_to_csv, model_predict_text"
   ]
  },
  {
   "cell_type": "markdown",
   "metadata": {},
   "source": [
    "## Model"
   ]
  },
  {
   "cell_type": "code",
   "execution_count": 2,
   "metadata": {
    "vscode": {
     "languageId": "plaintext"
    }
   },
   "outputs": [],
   "source": [
    "model = \"./Solution1/models/best.pt\" # model path\n",
    "\n",
    "device = \"cpu\" # device to run the model\n",
    "\n",
    "batch_size = 150 # based on hardware resources"
   ]
  },
  {
   "cell_type": "markdown",
   "metadata": {},
   "source": [
    "### Demo 1: Predict from a given dataset, and save to csv file"
   ]
  },
  {
   "cell_type": "code",
   "execution_count": 3,
   "metadata": {},
   "outputs": [],
   "source": [
    "input_file = \"./data/dev.csv\"\n",
    "\n",
    "output_path = \"./pred.csv.predict\""
   ]
  },
  {
   "cell_type": "code",
   "execution_count": 4,
   "metadata": {
    "vscode": {
     "languageId": "plaintext"
    }
   },
   "outputs": [
    {
     "name": "stdout",
     "output_type": "stream",
     "text": [
      "Loading Vocab...\n",
      "Loading test dataset...   row (5926/5926)\n",
      "Converting Text to Sequences...\n",
      "Using exist vocab...\n",
      "Done!\n"
     ]
    }
   ],
   "source": [
    "# Load vocabulary for preprocessing input data\n",
    "print(\"Loading Vocab...\")\n",
    "vocab = torch.load(\"./Solution1/models/pos_vocab.pt\", weights_only=False)\n",
    "\n",
    "# Preprocess input data and put into dataset class\n",
    "testset = ClaimEvidenceLstmDataset(input_file, \n",
    "                                   dataset_type=\"test\", \n",
    "                                   vocab=vocab)"
   ]
  },
  {
   "cell_type": "code",
   "execution_count": 5,
   "metadata": {
    "vscode": {
     "languageId": "plaintext"
    }
   },
   "outputs": [
    {
     "name": "stdout",
     "output_type": "stream",
     "text": [
      "Loading Model...\n"
     ]
    },
    {
     "data": {
      "text/plain": [
       "LstmAttentionClassifier(\n",
       "  (dropout): Dropout(p=0.3, inplace=False)\n",
       "  (embedding): Embedding(20347, 300, padding_idx=0)\n",
       "  (bilstm_encoder): LSTM(300, 128, batch_first=True, bidirectional=True)\n",
       "  (F): Sequential(\n",
       "    (0): Linear(in_features=1024, out_features=128, bias=True)\n",
       "    (1): ReLU()\n",
       "    (2): Dropout(p=0.3, inplace=False)\n",
       "  )\n",
       "  (bilstm_composition): LSTM(128, 128, batch_first=True, bidirectional=True)\n",
       "  (classifier): Sequential(\n",
       "    (0): Dropout(p=0.3, inplace=False)\n",
       "    (1): Linear(in_features=1024, out_features=128, bias=True)\n",
       "    (2): Tanh()\n",
       "    (3): Dropout(p=0.3, inplace=False)\n",
       "    (4): Linear(in_features=128, out_features=2, bias=True)\n",
       "    (5): Softmax(dim=-1)\n",
       "  )\n",
       ")"
      ]
     },
     "execution_count": 5,
     "metadata": {},
     "output_type": "execute_result"
    }
   ],
   "source": [
    "# Load model\n",
    "print(\"Loading Model...\")\n",
    "model = torch.load(model, weights_only=False)\n",
    "model.to(device)"
   ]
  },
  {
   "cell_type": "code",
   "execution_count": 8,
   "metadata": {
    "vscode": {
     "languageId": "plaintext"
    }
   },
   "outputs": [
    {
     "name": "stdout",
     "output_type": "stream",
     "text": [
      "Predicting... => batch 40/40\n",
      "Done!\n",
      "Prediction saved to: ./pred.csv.predict\n"
     ]
    }
   ],
   "source": [
    "# call interfaces for file prediction in eval.py\n",
    "predictions = model_predict(model, testset, batch_size=batch_size, device=device)\n",
    "predict_to_csv(predictions, output_path)"
   ]
  },
  {
   "cell_type": "markdown",
   "metadata": {},
   "source": [
    "## Demo 2: Predict a given claim-evidence pair"
   ]
  },
  {
   "cell_type": "code",
   "execution_count": 9,
   "metadata": {},
   "outputs": [
    {
     "name": "stdout",
     "output_type": "stream",
     "text": [
      "Loading Vocab...\n",
      "Loading test dataset...   row (1/1)\n",
      "Converting Text to Sequences...\n",
      "Using exist vocab...\n",
      "Done!\n",
      "Predicting... => batch 1/1\n",
      "Done!\n"
     ]
    },
    {
     "data": {
      "text/plain": [
       "False"
      ]
     },
     "execution_count": 9,
     "metadata": {},
     "output_type": "execute_result"
    }
   ],
   "source": [
    "# Given Claim-evidence text pair\n",
    "claim = \"Television should be given up.\"\n",
    "evidence = \"Barbera mentioned that they had to either adjust to television budgets or switch professions.\"\n",
    "\n",
    "# load model and preprocessing resources (Solution 1 vocabulary)\n",
    "device = \"cpu\"\n",
    "model.to(device)\n",
    "\n",
    "print(\"Loading Vocab...\")\n",
    "vocab = torch.load(\"./Solution1/data/vocab&embeddings/pos_vocab.pt\", weights_only=False)\n",
    "\n",
    "# call interfaces for text prediction in eval.py\n",
    "model_predict_text(model, claim, evidence, preprocessor=vocab)"
   ]
  }
 ],
 "metadata": {
  "kernelspec": {
   "display_name": "Python 3",
   "language": "python",
   "name": "python3"
  },
  "language_info": {
   "codemirror_mode": {
    "name": "ipython",
    "version": 3
   },
   "file_extension": ".py",
   "mimetype": "text/x-python",
   "name": "python",
   "nbconvert_exporter": "python",
   "pygments_lexer": "ipython3",
   "version": "3.8.8"
  }
 },
 "nbformat": 4,
 "nbformat_minor": 4
}
